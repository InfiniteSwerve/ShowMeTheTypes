{
 "cells": [
  {
   "cell_type": "code",
   "execution_count": 7,
   "metadata": {},
   "outputs": [],
   "source": [
    "import numpy as np\n",
    "import torch\n",
    "from showmethetypes import SMTT\n",
    "import types"
   ]
  },
  {
   "cell_type": "code",
   "execution_count": 8,
   "metadata": {},
   "outputs": [],
   "source": [
    "tt = SMTT()"
   ]
  },
  {
   "cell_type": "code",
   "execution_count": 9,
   "metadata": {},
   "outputs": [
    {
     "name": "stdout",
     "output_type": "stream",
     "text": [
      "tuple\n",
      "    ├── list (4)\n",
      "    │   └── list (3)\n",
      "    │       └── int\n",
      "    └── tuple\n",
      "        ├── int\n",
      "        ├── int\n",
      "        └── list (3)\n",
      "            └── int\n"
     ]
    }
   ],
   "source": [
    "tt(([[1, 2, 3], 2, 3, [1, 2, 3]], (1, 2, [1, 2, 3])))"
   ]
  },
  {
   "cell_type": "code",
   "execution_count": 10,
   "metadata": {},
   "outputs": [],
   "source": [
    "structure = [(torch.randn(2, 3), torch.randn(500, 5, 128)) for _ in range(5)]"
   ]
  },
  {
   "cell_type": "code",
   "execution_count": 11,
   "metadata": {},
   "outputs": [
    {
     "name": "stdout",
     "output_type": "stream",
     "text": [
      "list (5)\n",
      "    └── tuple\n",
      "        ├── Tensor (dtype: torch.float32)\n",
      "        │   │   (device: cpu)\n",
      "        │   ├── dim_0 (2)\n",
      "        │   └── dim_1 (3)\n",
      "        └── Tensor (dtype: torch.float32)\n",
      "            │   (device: cpu)\n",
      "            ├── dim_0 (500)\n",
      "            ├── dim_1 (5)\n",
      "            └── dim_2 (128)\n"
     ]
    }
   ],
   "source": [
    "tt(structure)"
   ]
  },
  {
   "cell_type": "code",
   "execution_count": 12,
   "metadata": {},
   "outputs": [],
   "source": [
    "ten = torch.tensor(1)"
   ]
  },
  {
   "cell_type": "code",
   "execution_count": 13,
   "metadata": {},
   "outputs": [],
   "source": [
    "t = torch.randn(2, 3)"
   ]
  },
  {
   "cell_type": "code",
   "execution_count": 14,
   "metadata": {},
   "outputs": [
    {
     "name": "stdout",
     "output_type": "stream",
     "text": [
      "Tensor (dtype: torch.float32)\n",
      "    │   (device: cpu)\n",
      "    ├── dim_0 (2)\n",
      "    └── dim_1 (3)\n"
     ]
    }
   ],
   "source": [
    "tt(t)"
   ]
  },
  {
   "cell_type": "code",
   "execution_count": 15,
   "metadata": {},
   "outputs": [
    {
     "name": "stdout",
     "output_type": "stream",
     "text": [
      "Tensor (dtype: torch.int64)\n",
      "    │   (device: cpu)\n",
      "    └── 1\n"
     ]
    }
   ],
   "source": [
    "tt(ten)"
   ]
  },
  {
   "cell_type": "code",
   "execution_count": 16,
   "metadata": {},
   "outputs": [],
   "source": [
    "o = np.array(1)"
   ]
  },
  {
   "cell_type": "code",
   "execution_count": 17,
   "metadata": {},
   "outputs": [
    {
     "name": "stdout",
     "output_type": "stream",
     "text": [
      "ndarray (dtype: int64)\n",
      "    └── 1\n"
     ]
    }
   ],
   "source": [
    "tt(o)"
   ]
  },
  {
   "cell_type": "code",
   "execution_count": 18,
   "metadata": {},
   "outputs": [],
   "source": [
    "ar = np.array([[1, 1]])"
   ]
  },
  {
   "cell_type": "code",
   "execution_count": 19,
   "metadata": {},
   "outputs": [
    {
     "data": {
      "text/plain": [
       "(1, 2)"
      ]
     },
     "execution_count": 19,
     "metadata": {},
     "output_type": "execute_result"
    }
   ],
   "source": [
    "ar.shape"
   ]
  },
  {
   "cell_type": "code",
   "execution_count": 20,
   "metadata": {},
   "outputs": [
    {
     "name": "stdout",
     "output_type": "stream",
     "text": [
      "ndarray (dtype: int64)\n",
      "    ├── dim_0 (1)\n",
      "    └── dim_1 (2)\n"
     ]
    }
   ],
   "source": [
    "tt(ar)"
   ]
  },
  {
   "cell_type": "code",
   "execution_count": 21,
   "metadata": {},
   "outputs": [],
   "source": [
    "intt = np.int64(5)"
   ]
  },
  {
   "cell_type": "code",
   "execution_count": 22,
   "metadata": {},
   "outputs": [
    {
     "name": "stdout",
     "output_type": "stream",
     "text": [
      "int64: 5\n"
     ]
    }
   ],
   "source": [
    "tt(intt)"
   ]
  }
 ],
 "metadata": {
  "kernelspec": {
   "display_name": "base",
   "language": "python",
   "name": "python3"
  },
  "language_info": {
   "codemirror_mode": {
    "name": "ipython",
    "version": 3
   },
   "file_extension": ".py",
   "mimetype": "text/x-python",
   "name": "python",
   "nbconvert_exporter": "python",
   "pygments_lexer": "ipython3",
   "version": "3.10.13"
  },
  "orig_nbformat": 4
 },
 "nbformat": 4,
 "nbformat_minor": 2
}
